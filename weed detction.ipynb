{
 "cells": [
  {
   "cell_type": "markdown",
   "metadata": {},
   "source": [
    "# Context\n",
    "\n",
    "From the set of images captured by the UAV, all those with occurrence of weeds were selected resulting a total of 400 images. Through the Pynovisão software, using the SLIC algorithm, these images were segmented and the segments annotated manually with their respective class. These segments were used in the construction of the image dataset.\n",
    "\n",
    "\n",
    "This code helps to classify plant images into 4 different classes from a dataset of Soybean crops. Multi-class classification is done by training a convolutional neural network.\n",
    "\n",
    "# Content\n",
    "\n",
    "This image dataset has 15336 segments, being 3249 of soil, 7376 of soybean, 3520 grass and 1191 of broadleaf weeds. \n",
    "\n",
    "\n"
   ]
  },
  {
   "cell_type": "markdown",
   "metadata": {},
   "source": [
    "## Importing libraries "
   ]
  },
  {
   "cell_type": "code",
   "execution_count": 8,
   "metadata": {},
   "outputs": [],
   "source": [
    "# Dependencies\n",
    "import os\n",
    "import numpy as np\n",
    "import matplotlib.pyplot as plt\n",
    "import seaborn as sns\n",
    "import cv2\n",
    "from tqdm import tqdm\n",
    "from PIL import Image\n",
    "import pandas as pd\n",
    "from resizeimage import resizeimage\n",
    "from sklearn.metrics import classification_report, accuracy_score\n",
    "from sklearn.metrics import confusion_matrix\n",
    "from sklearn.model_selection import train_test_split\n",
    "from IPython.display import clear_output\n",
    "import pickle\n",
    "import warnings\n",
    "from os import listdir\n",
    "from numpy import asarray\n",
    "from numpy import array\n",
    "from sklearn.preprocessing import LabelEncoder\n",
    "# # Config\n",
    "from keras.layers import Dense, Dropout, Flatten, Conv2D, MaxPool2D\n",
    "from keras.utils import to_categorical\n",
    "import pickle\n",
    "import pandas as pd\n",
    "import numpy as np\n",
    "import matplotlib.pyplot as plt\n",
    "import matplotlib.image as  mpimg\n",
    "import seaborn as sns\n",
    "%matplotlib inline \n",
    "\n",
    "import os\n",
    "np.random.seed(2)\n",
    "\n",
    "from sklearn.model_selection import train_test_split\n",
    "from sklearn.metrics import confusion_matrix\n",
    "import itertools \n",
    "\n",
    "from keras.utils.np_utils import to_categorical \n",
    "from keras.models import Sequential \n",
    "from keras.layers import Dense, Dropout, Flatten, Conv2D, MaxPool2D\n",
    "from keras.optimizers import RMSprop\n",
    "from keras.preprocessing.image import ImageDataGenerator\n",
    "from keras.callbacks import ReduceLROnPlateau\n",
    "\n",
    "sns.set(style='white', context='notebook',palette=\"deep\")"
   ]
  },
  {
   "cell_type": "markdown",
   "metadata": {},
   "source": [
    "#### Creating input directory and Categories for dependent variable"
   ]
  },
  {
   "cell_type": "code",
   "execution_count": 10,
   "metadata": {},
   "outputs": [],
   "source": [
    "DATADIR = '/home/parikshit/Downloads/weed-detection-in-soybean-crops/dataset/dataset'\n",
    "#DATADIR = '/home/parikshit/Downloads/weed-detection-in-soybean-crops/temp/datasets/dataset'\n",
    "\n",
    "CATEGORIES = ['broadleaf', 'grass','soil','soybean']"
   ]
  },
  {
   "cell_type": "code",
   "execution_count": 11,
   "metadata": {},
   "outputs": [],
   "source": [
    "training_data=[]"
   ]
  },
  {
   "cell_type": "markdown",
   "metadata": {},
   "source": [
    "#### Importaing data "
   ]
  },
  {
   "cell_type": "code",
   "execution_count": 12,
   "metadata": {},
   "outputs": [
    {
     "name": "stderr",
     "output_type": "stream",
     "text": [
      "100%|██████████| 1191/1191 [00:01<00:00, 879.74it/s]\n",
      "100%|██████████| 3520/3520 [00:04<00:00, 843.43it/s]\n",
      "100%|██████████| 3249/3249 [00:05<00:00, 631.74it/s]\n",
      "100%|██████████| 7376/7376 [00:14<00:00, 521.05it/s]\n"
     ]
    }
   ],
   "source": [
    "training_data = []\n",
    "\n",
    "def create_training_data():\n",
    "    for category in CATEGORIES:  \n",
    "\n",
    "        path = os.path.join(DATADIR,category)  \n",
    "        class_num = CATEGORIES.index(category)  \n",
    "\n",
    "        for img in tqdm(os.listdir(path)):  # iterate over each image \n",
    "            try:\n",
    "                img_array = cv2.imread(os.path.join(path,img) ,cv2.IMREAD_GRAYSCALE)  # convert to array\n",
    "                new_array = cv2.resize(img_array, (120,120))  # resize to normalize data size\n",
    "                training_data.append([new_array, class_num])  # add this to our training_data\n",
    "            except Exception as e:  # in the interest in keeping the output clean...\n",
    "                pass\n",
    "            #except OSError as e:\n",
    "            #    print(\"OSErrroBad img most likely\", e, os.path.join(path,img))\n",
    "            #except Exception as e:\n",
    "            #    print(\"general exception\", e, os.path.join(path,img))\n",
    "\n",
    "create_training_data()"
   ]
  },
  {
   "cell_type": "code",
   "execution_count": 13,
   "metadata": {},
   "outputs": [],
   "source": [
    "X=[]\n",
    "y=[]"
   ]
  },
  {
   "cell_type": "code",
   "execution_count": 14,
   "metadata": {},
   "outputs": [],
   "source": [
    "for features,label in training_data:\n",
    "    X.append(features)\n",
    "    y.append(label)"
   ]
  },
  {
   "cell_type": "markdown",
   "metadata": {},
   "source": [
    "#### Converting Images to numpy arrays"
   ]
  },
  {
   "cell_type": "code",
   "execution_count": 15,
   "metadata": {},
   "outputs": [],
   "source": [
    "X = np.array(X).reshape(-1, 120,120,1)"
   ]
  },
  {
   "cell_type": "markdown",
   "metadata": {},
   "source": [
    "We perform a grayscale normalization to reduce the effect of illumination's differences.\n",
    "Moreover the CNN converg faster on [0..1] data than on [0..255]."
   ]
  },
  {
   "cell_type": "code",
   "execution_count": 16,
   "metadata": {},
   "outputs": [],
   "source": [
    "X = X/255.0"
   ]
  },
  {
   "cell_type": "markdown",
   "metadata": {},
   "source": [
    "#### Encoding the dependent variable"
   ]
  },
  {
   "cell_type": "code",
   "execution_count": 17,
   "metadata": {},
   "outputs": [],
   "source": [
    "y = to_categorical(y, num_classes=4)"
   ]
  },
  {
   "cell_type": "code",
   "execution_count": 18,
   "metadata": {},
   "outputs": [],
   "source": [
    "random_seed = 2"
   ]
  },
  {
   "cell_type": "markdown",
   "metadata": {},
   "source": [
    "#### Creating training and testing data sets"
   ]
  },
  {
   "cell_type": "code",
   "execution_count": 19,
   "metadata": {},
   "outputs": [],
   "source": [
    "X_train,X_val,Y_train,Y_val = train_test_split(X,y,test_size = 0.3, random_state= random_seed)"
   ]
  },
  {
   "cell_type": "markdown",
   "metadata": {},
   "source": [
    "#### Augmenting images "
   ]
  },
  {
   "cell_type": "markdown",
   "metadata": {},
   "source": [
    "In order to avoid overfitting problem, we need to expand artificially our dataset. We can make your existing dataset even larger. The idea is to alter the training data with small transformations to reproduce the variations occuring when someone is writing a digit.\n",
    "\n",
    "Approaches that alter the training data in ways that change the array representation while keeping the label the same are known as data augmentation techniques. Some popular augmentations people use are grayscales, horizontal flips, vertical flips, random crops, color jitters, translations, rotations, and much more.\n",
    "\n",
    "By applying just a couple of these transformations to our training data, we can easily double or triple the number of training examples and create a very robust model."
   ]
  },
  {
   "cell_type": "code",
   "execution_count": 27,
   "metadata": {},
   "outputs": [],
   "source": [
    "datagen = ImageDataGenerator(\n",
    "        featurewise_center=False,  # set input mean to 0 over the dataset\n",
    "        samplewise_center=False,  # set each sample mean to 0\n",
    "        featurewise_std_normalization=False,  # divide inputs by std of the dataset\n",
    "        samplewise_std_normalization=False,  # divide each input by its std\n",
    "        zca_whitening=False,  # apply ZCA whitening\n",
    "        rotation_range=10,  # randomly rotate images in the range (degrees, 0 to 180)\n",
    "        zoom_range = 0.1, # Randomly zoom image \n",
    "        width_shift_range=0.1,  # randomly shift images horizontally (fraction of total width)\n",
    "        height_shift_range=0.1,  # randomly shift images vertically (fraction of total height)\n",
    "        horizontal_flip=True,  # randomly flip images\n",
    "        vertical_flip=True)  # randomly flip images\n",
    "\n",
    "datagen.fit(X_train)"
   ]
  },
  {
   "cell_type": "markdown",
   "metadata": {},
   "source": [
    "#### Training the convolutional neural network"
   ]
  },
  {
   "cell_type": "markdown",
   "metadata": {},
   "source": [
    "The first is the convolutional (Conv2D) layer. It is like a set of learnable filters. I choosed to set 4 filters for the two firsts conv2D layers and 3 filters for the two last ones. Each filter transforms a part of the image (defined by the kernel size) using the kernel filter. The kernel filter matrix is applied on the whole image. Filters can be seen as a transformation of the image.\n",
    "\n",
    "The CNN can isolate features that are useful everywhere from these transformed images (feature maps).\n",
    "\n",
    "The second important layer in CNN is the pooling (MaxPool2D) layer. This layer simply acts as a downsampling filter. It looks at the 2 neighboring pixels and picks the maximal value. These are used to reduce computational cost, and to some extent also reduce overfitting. We have to choose the pooling size (i.e the area size pooled each time) more the pooling dimension is high, more the downsampling is important.\n",
    "\n",
    "Combining convolutional and pooling layers, CNN are able to combine local features and learn more global features of the image.\n",
    "\n",
    "Dropout is a regularization method, where a proportion of nodes in the layer are randomly ignored (setting their wieghts to zero) for each training sample. This drops randomly a propotion of the network and forces the network to learn features in a distributed way. This technique also improves generalization and reduces the overfitting.\n",
    "\n",
    "'relu' is the rectifier (activation function max(0,x). The rectifier activation function is used to add non linearity to the network.\n",
    "\n",
    "The Flatten layer is use to convert the final feature maps into a one single 1D vector. This flattening step is needed so that you can make use of fully connected layers after some convolutional/maxpool layers. It combines all the found local features of the previous convolutional layers.\n",
    "\n",
    "In the end the features in two fully-connected (Dense) layers which is just artificial an neural networks (ANN) classifier are used. In the last layer(Dense(10,activation=\"softmax\")) the net outputs distribution of probability of each class."
   ]
  },
  {
   "cell_type": "code",
   "execution_count": 21,
   "metadata": {},
   "outputs": [
    {
     "name": "stderr",
     "output_type": "stream",
     "text": [
      "WARNING: Logging before flag parsing goes to stderr.\n",
      "W1111 13:07:12.561669 140448332724032 deprecation_wrapper.py:119] From /home/parikshit/anaconda3/lib/python3.7/site-packages/keras/backend/tensorflow_backend.py:74: The name tf.get_default_graph is deprecated. Please use tf.compat.v1.get_default_graph instead.\n",
      "\n",
      "W1111 13:07:12.587258 140448332724032 deprecation_wrapper.py:119] From /home/parikshit/anaconda3/lib/python3.7/site-packages/keras/backend/tensorflow_backend.py:517: The name tf.placeholder is deprecated. Please use tf.compat.v1.placeholder instead.\n",
      "\n",
      "W1111 13:07:12.590387 140448332724032 deprecation_wrapper.py:119] From /home/parikshit/anaconda3/lib/python3.7/site-packages/keras/backend/tensorflow_backend.py:4138: The name tf.random_uniform is deprecated. Please use tf.random.uniform instead.\n",
      "\n",
      "W1111 13:07:12.621195 140448332724032 deprecation_wrapper.py:119] From /home/parikshit/anaconda3/lib/python3.7/site-packages/keras/backend/tensorflow_backend.py:3976: The name tf.nn.max_pool is deprecated. Please use tf.nn.max_pool2d instead.\n",
      "\n",
      "W1111 13:07:12.624620 140448332724032 deprecation_wrapper.py:119] From /home/parikshit/anaconda3/lib/python3.7/site-packages/keras/backend/tensorflow_backend.py:133: The name tf.placeholder_with_default is deprecated. Please use tf.compat.v1.placeholder_with_default instead.\n",
      "\n",
      "W1111 13:07:12.631863 140448332724032 deprecation.py:506] From /home/parikshit/anaconda3/lib/python3.7/site-packages/keras/backend/tensorflow_backend.py:3445: calling dropout (from tensorflow.python.ops.nn_ops) with keep_prob is deprecated and will be removed in a future version.\n",
      "Instructions for updating:\n",
      "Please use `rate` instead of `keep_prob`. Rate should be set to `rate = 1 - keep_prob`.\n"
     ]
    }
   ],
   "source": [
    "model = Sequential()\n",
    "\n",
    "model.add(Conv2D(filters=4, kernel_size=(3,3), padding = \"Same\", activation='relu',input_shape=(120,120,1)))\n",
    "model.add(Conv2D(filters=4, kernel_size=(3,3), padding = \"Same\", activation='relu',input_shape=(120,120,1)))\n",
    "model.add(MaxPool2D(pool_size=(2,2)))\n",
    "model.add(Dropout(0.25))\n",
    "\n",
    "\n",
    "model.add(Conv2D(filters=3, kernel_size=(3,3), padding = \"Same\", activation='relu',input_shape=(120,120,1)))\n",
    "model.add(Conv2D(filters=3, kernel_size=(3,3), padding = \"Same\", activation='relu',input_shape=(120,120,1)))\n",
    "model.add(MaxPool2D(pool_size=(2,2), strides=(2,2)))\n",
    "model.add(Dropout(0.25))\n",
    "\n",
    "\n",
    "model.add(Flatten())\n",
    "model.add(Dense(256,activation = \"relu\"))\n",
    "model.add(Dropout(0.5))\n",
    "model.add(Dense(4, activation = \"softmax\"))\n",
    "\n",
    "# optimizer = RMSprop(lr = 0.001,rho = 0.9 , epsilon = 1e-08, decay = 0.0)\n",
    "# model.compile(optimizer = optimizer, loss = \"categorical_crossentropy\", metrics = ['accuracy'])\n",
    "# model.fit(X_train, Y_train, batch_size=80, epochs=50, validation_split=0.3)"
   ]
  },
  {
   "cell_type": "markdown",
   "metadata": {},
   "source": [
    "Once our layers are added to the model, we need to set up a score function, a loss function and an optimisation algorithm.\n",
    "\n",
    "The loss function is defined to measure how poorly our model performs on images with known labels. It is the error rate between the oberved labels and the predicted ones. A specific form for categorical classifications (>2 classes) called the \"categorical_crossentropy\" is used.\n",
    "\n",
    "The most important function is the optimizer. This function will iteratively improve parameters (filters kernel values, weights and bias of neurons ...) in order to minimise the loss.\n",
    "\n",
    "RMSprop (with default values) is used in this case, it is a very effective optimizer. The RMSProp update adjusts the Adagrad method in a very simple way in an attempt to reduce its aggressive, monotonically decreasing learning rate. We could also have used Stochastic Gradient Descent ('sgd') optimizer, but it is slower than RMSprop.\n",
    "\n",
    "The metric function \"accuracy\" is used is to evaluate the performance our model. This metric function is similar to the loss function, except that the results from the metric evaluation are not used when training the model (only for evaluation)."
   ]
  },
  {
   "cell_type": "code",
   "execution_count": 22,
   "metadata": {},
   "outputs": [],
   "source": [
    "optimizer = RMSprop(lr = 0.001,rho = 0.9 , epsilon = 1e-08, decay = 0.0)"
   ]
  },
  {
   "cell_type": "code",
   "execution_count": 23,
   "metadata": {},
   "outputs": [
    {
     "name": "stderr",
     "output_type": "stream",
     "text": [
      "W1111 13:07:26.654920 140448332724032 deprecation_wrapper.py:119] From /home/parikshit/anaconda3/lib/python3.7/site-packages/keras/optimizers.py:790: The name tf.train.Optimizer is deprecated. Please use tf.compat.v1.train.Optimizer instead.\n",
      "\n",
      "W1111 13:07:26.673025 140448332724032 deprecation_wrapper.py:119] From /home/parikshit/anaconda3/lib/python3.7/site-packages/keras/backend/tensorflow_backend.py:3295: The name tf.log is deprecated. Please use tf.math.log instead.\n",
      "\n"
     ]
    }
   ],
   "source": [
    "model.compile(optimizer = optimizer, loss = \"categorical_crossentropy\", metrics = ['accuracy'])"
   ]
  },
  {
   "cell_type": "markdown",
   "metadata": {},
   "source": [
    "In order to make the optimizer converge faster and closest to the global minimum of the loss function, i used an annealing method of the learning rate (LR).\n",
    "\n",
    "The LR is the step by which the optimizer walks through the 'loss landscape'. The higher LR, the bigger are the steps and the quicker is the convergence. However the sampling is very poor with an high LR and the optimizer could probably fall into a local minima.\n",
    "\n",
    "Its better to have a decreasing learning rate during the training to reach efficiently the global minimum of the loss function.\n",
    "\n",
    "To keep the advantage of the fast computation time with a high LR, i decreased the LR dynamically every X steps (epochs) depending if it is necessary (when accuracy is not improved).\n",
    "\n",
    "With the ReduceLROnPlateau function from Keras.callbacks, i choose to reduce the LR by half if the accuracy is not improved after 3 epochs.\n"
   ]
  },
  {
   "cell_type": "code",
   "execution_count": 24,
   "metadata": {},
   "outputs": [],
   "source": [
    "# Set a learning rate annealer\n",
    "learning_rate_reduction = ReduceLROnPlateau(monitor='val_acc', \n",
    "                                            patience=3, \n",
    "                                            verbose=1, \n",
    "                                            factor=0.5, \n",
    "                                            min_lr=0.00001)"
   ]
  },
  {
   "cell_type": "code",
   "execution_count": 25,
   "metadata": {},
   "outputs": [],
   "source": [
    "epochs = 50 \n",
    "batch_size = 80"
   ]
  },
  {
   "cell_type": "code",
   "execution_count": 121,
   "metadata": {},
   "outputs": [
    {
     "name": "stdout",
     "output_type": "stream",
     "text": [
      "Epoch 1/50\n",
      " - 47s - loss: 1.1696 - acc: 0.4961 - val_loss: 1.2720 - val_acc: 0.3953\n",
      "Epoch 2/50\n",
      " - 46s - loss: 1.0680 - acc: 0.5443 - val_loss: 1.1566 - val_acc: 0.5112\n",
      "Epoch 3/50\n",
      " - 46s - loss: 1.0015 - acc: 0.5871 - val_loss: 1.0006 - val_acc: 0.6016\n",
      "Epoch 4/50\n",
      " - 46s - loss: 0.9549 - acc: 0.6113 - val_loss: 1.1780 - val_acc: 0.4879\n",
      "Epoch 5/50\n",
      " - 46s - loss: 0.9129 - acc: 0.6271 - val_loss: 1.0788 - val_acc: 0.5862\n",
      "Epoch 6/50\n",
      " - 46s - loss: 0.8712 - acc: 0.6455 - val_loss: 0.8875 - val_acc: 0.6344\n",
      "Epoch 7/50\n",
      " - 46s - loss: 0.8345 - acc: 0.6616 - val_loss: 0.9180 - val_acc: 0.6016\n",
      "Epoch 8/50\n",
      " - 46s - loss: 0.8251 - acc: 0.6614 - val_loss: 0.9629 - val_acc: 0.6433\n",
      "Epoch 9/50\n",
      " - 46s - loss: 0.8072 - acc: 0.6712 - val_loss: 0.8006 - val_acc: 0.6655\n",
      "Epoch 10/50\n",
      " - 46s - loss: 0.7804 - acc: 0.6793 - val_loss: 0.7716 - val_acc: 0.6701\n",
      "Epoch 11/50\n",
      " - 46s - loss: 0.7714 - acc: 0.6848 - val_loss: 0.9025 - val_acc: 0.6612\n",
      "Epoch 12/50\n",
      " - 46s - loss: 0.7700 - acc: 0.6852 - val_loss: 0.7986 - val_acc: 0.6725\n",
      "Epoch 13/50\n",
      " - 46s - loss: 0.7482 - acc: 0.6924 - val_loss: 0.7712 - val_acc: 0.6733\n",
      "Epoch 14/50\n",
      " - 46s - loss: 0.7565 - acc: 0.6894 - val_loss: 0.8752 - val_acc: 0.6657\n",
      "Epoch 15/50\n",
      " - 46s - loss: 0.7393 - acc: 0.6999 - val_loss: 0.7284 - val_acc: 0.6959\n",
      "Epoch 16/50\n",
      " - 46s - loss: 0.7320 - acc: 0.7037 - val_loss: 0.7301 - val_acc: 0.7042\n",
      "Epoch 17/50\n",
      " - 46s - loss: 0.7261 - acc: 0.7153 - val_loss: 0.7105 - val_acc: 0.7118\n",
      "Epoch 18/50\n",
      " - 46s - loss: 0.7124 - acc: 0.7179 - val_loss: 0.7141 - val_acc: 0.7159\n",
      "Epoch 19/50\n",
      " - 46s - loss: 0.7233 - acc: 0.7207 - val_loss: 0.6804 - val_acc: 0.7218\n",
      "Epoch 20/50\n",
      " - 46s - loss: 0.7009 - acc: 0.7278 - val_loss: 0.6803 - val_acc: 0.7248\n",
      "Epoch 21/50\n",
      " - 46s - loss: 0.6858 - acc: 0.7383 - val_loss: 0.7918 - val_acc: 0.6870\n",
      "Epoch 22/50\n",
      " - 46s - loss: 0.6671 - acc: 0.7442 - val_loss: 0.7254 - val_acc: 0.7146\n",
      "Epoch 23/50\n",
      " - 46s - loss: 0.6792 - acc: 0.7442 - val_loss: 0.7160 - val_acc: 0.7229\n",
      "\n",
      "Epoch 00023: ReduceLROnPlateau reducing learning rate to 0.0005000000237487257.\n",
      "Epoch 24/50\n",
      " - 46s - loss: 0.6087 - acc: 0.7717 - val_loss: 0.6866 - val_acc: 0.7377\n",
      "Epoch 25/50\n",
      " - 46s - loss: 0.6100 - acc: 0.7715 - val_loss: 0.6589 - val_acc: 0.7455\n",
      "Epoch 26/50\n",
      " - 46s - loss: 0.5912 - acc: 0.7785 - val_loss: 0.7889 - val_acc: 0.7188\n",
      "Epoch 27/50\n",
      " - 46s - loss: 0.5931 - acc: 0.7784 - val_loss: 0.8381 - val_acc: 0.6983\n",
      "Epoch 28/50\n",
      " - 46s - loss: 0.5940 - acc: 0.7778 - val_loss: 0.6790 - val_acc: 0.7453\n",
      "\n",
      "Epoch 00028: ReduceLROnPlateau reducing learning rate to 0.0002500000118743628.\n",
      "Epoch 29/50\n",
      " - 46s - loss: 0.5573 - acc: 0.7886 - val_loss: 0.7530 - val_acc: 0.7314\n",
      "Epoch 30/50\n",
      " - 46s - loss: 0.5603 - acc: 0.7925 - val_loss: 0.7376 - val_acc: 0.7346\n",
      "Epoch 31/50\n",
      " - 46s - loss: 0.5688 - acc: 0.7907 - val_loss: 0.7298 - val_acc: 0.7359\n",
      "\n",
      "Epoch 00031: ReduceLROnPlateau reducing learning rate to 0.0001250000059371814.\n",
      "Epoch 32/50\n",
      " - 46s - loss: 0.5378 - acc: 0.7975 - val_loss: 0.7088 - val_acc: 0.7403\n",
      "Epoch 33/50\n",
      " - 46s - loss: 0.5377 - acc: 0.7988 - val_loss: 0.6872 - val_acc: 0.7470\n",
      "Epoch 34/50\n",
      " - 46s - loss: 0.5540 - acc: 0.7943 - val_loss: 0.6812 - val_acc: 0.7496\n",
      "Epoch 35/50\n",
      " - 46s - loss: 0.5465 - acc: 0.7947 - val_loss: 0.8327 - val_acc: 0.7183\n",
      "Epoch 36/50\n",
      " - 46s - loss: 0.5338 - acc: 0.8027 - val_loss: 0.7664 - val_acc: 0.7303\n",
      "Epoch 37/50\n",
      " - 46s - loss: 0.5484 - acc: 0.7961 - val_loss: 0.6716 - val_acc: 0.7527\n",
      "Epoch 38/50\n",
      " - 46s - loss: 0.5430 - acc: 0.7993 - val_loss: 0.8093 - val_acc: 0.7248\n",
      "Epoch 39/50\n",
      " - 46s - loss: 0.5318 - acc: 0.8033 - val_loss: 0.7509 - val_acc: 0.7390\n",
      "Epoch 40/50\n",
      " - 46s - loss: 0.5411 - acc: 0.8029 - val_loss: 0.7310 - val_acc: 0.7427\n",
      "\n",
      "Epoch 00040: ReduceLROnPlateau reducing learning rate to 6.25000029685907e-05.\n",
      "Epoch 41/50\n",
      " - 46s - loss: 0.5287 - acc: 0.8053 - val_loss: 0.7165 - val_acc: 0.7448\n",
      "Epoch 42/50\n",
      " - 46s - loss: 0.5322 - acc: 0.8041 - val_loss: 0.7132 - val_acc: 0.7392\n",
      "Epoch 43/50\n",
      " - 46s - loss: 0.5286 - acc: 0.8016 - val_loss: 0.7701 - val_acc: 0.7357\n",
      "\n",
      "Epoch 00043: ReduceLROnPlateau reducing learning rate to 3.125000148429535e-05.\n",
      "Epoch 44/50\n",
      " - 46s - loss: 0.5327 - acc: 0.8037 - val_loss: 0.7194 - val_acc: 0.7438\n",
      "Epoch 45/50\n",
      " - 46s - loss: 0.5248 - acc: 0.8063 - val_loss: 0.7423 - val_acc: 0.7388\n",
      "Epoch 46/50\n",
      " - 46s - loss: 0.5143 - acc: 0.8032 - val_loss: 0.7121 - val_acc: 0.7442\n",
      "\n",
      "Epoch 00046: ReduceLROnPlateau reducing learning rate to 1.5625000742147677e-05.\n",
      "Epoch 47/50\n",
      " - 46s - loss: 0.5298 - acc: 0.8051 - val_loss: 0.7303 - val_acc: 0.7440\n",
      "Epoch 48/50\n",
      " - 46s - loss: 0.5208 - acc: 0.8027 - val_loss: 0.7186 - val_acc: 0.7453\n",
      "Epoch 49/50\n",
      " - 46s - loss: 0.5368 - acc: 0.8012 - val_loss: 0.7533 - val_acc: 0.7374\n",
      "\n",
      "Epoch 00049: ReduceLROnPlateau reducing learning rate to 1e-05.\n",
      "Epoch 50/50\n",
      " - 46s - loss: 0.5182 - acc: 0.8076 - val_loss: 0.7420 - val_acc: 0.7403\n"
     ]
    }
   ],
   "source": [
    "history = model.fit_generator(datagen.flow(X_train,Y_train, batch_size=batch_size),\n",
    "                              epochs = epochs, validation_data = (X_val,Y_val),\n",
    "                              verbose = 2, steps_per_epoch=X_train.shape[0] // batch_size\n",
    "                              ,callbacks=[learning_rate_reduction])"
   ]
  },
  {
   "cell_type": "markdown",
   "metadata": {},
   "source": [
    "#### Plotting the Loss and Accuracy for training and validation data sets"
   ]
  },
  {
   "cell_type": "code",
   "execution_count": 122,
   "metadata": {},
   "outputs": [
    {
     "data": {
      "image/png": "[encoded data removed]",
      "text/plain": [
       "<Figure size 432x288 with 2 Axes>"
      ]
     },
     "metadata": {},
     "output_type": "display_data"
    }
   ],
   "source": [
    "fig, ax = plt.subplots(2,1)\n",
    "ax[0].plot(history.history['loss'], color='b', label=\"Training loss\")\n",
    "ax[0].plot(history.history['val_loss'], color='r', label=\"validation loss\",axes =ax[0])\n",
    "legend = ax[0].legend(loc='best', shadow=True)\n",
    "\n",
    "ax[1].plot(history.history['acc'], color='b', label=\"Training accuracy\")\n",
    "ax[1].plot(history.history['val_acc'], color='r',label=\"Validation accuracy\")\n",
    "legend = ax[1].legend(loc='best', shadow=True)"
   ]
  },
  {
   "cell_type": "markdown",
   "metadata": {},
   "source": [
    "#### Plotting the confusion matrix"
   ]
  },
  {
   "cell_type": "code",
   "execution_count": 124,
   "metadata": {},
   "outputs": [
    {
     "data": {
      "image/png": "[encoded data removed]",
      "text/plain": [
       "<Figure size 432x288 with 2 Axes>"
      ]
     },
     "metadata": {},
     "output_type": "display_data"
    }
   ],
   "source": [
    "# Look at confusion matrix \n",
    "\n",
    "def plot_confusion_matrix(cm, classes,\n",
    "                          normalize=False,\n",
    "                          title='Confusion matrix',\n",
    "                          cmap=plt.cm.Blues):\n",
    "    \"\"\"\n",
    "    This function prints and plots the confusion matrix.\n",
    "    Normalization can be applied by setting `normalize=True`.\n",
    "    \"\"\"\n",
    "    plt.imshow(cm, interpolation='nearest', cmap=cmap)\n",
    "    plt.title(title)\n",
    "    plt.colorbar()\n",
    "    tick_marks = np.arange(len(classes))\n",
    "    plt.xticks(tick_marks, classes, rotation=45)\n",
    "    plt.yticks(tick_marks, classes)\n",
    "\n",
    "    if normalize:\n",
    "        cm = cm.astype('float') / cm.sum(axis=1)[:, np.newaxis]\n",
    "\n",
    "    thresh = cm.max() / 2.\n",
    "    for i, j in itertools.product(range(cm.shape[0]), range(cm.shape[1])):\n",
    "        plt.text(j, i, cm[i, j],\n",
    "                 horizontalalignment=\"center\",\n",
    "                 color=\"white\" if cm[i, j] > thresh else \"black\")\n",
    "\n",
    "    plt.tight_layout()\n",
    "    plt.ylabel('True label')\n",
    "    plt.xlabel('Predicted label')\n",
    "\n",
    "# Predict the values from the validation dataset\n",
    "Y_pred = model.predict(X_val)\n",
    "# Convert predictions classes to one hot vectors \n",
    "Y_pred_classes = np.argmax(Y_pred,axis = 1) \n",
    "# Convert validation observations to one hot vectors\n",
    "Y_true = np.argmax(Y_val,axis = 1) \n",
    "# compute the confusion matrix\n",
    "confusion_mtx = confusion_matrix(Y_true, Y_pred_classes) \n",
    "# plot the confusion matrix\n",
    "plot_confusion_matrix(confusion_mtx, classes = range(4)) "
   ]
  }
 ],
 "metadata": {
  "kernelspec": {
   "display_name": "Python 3",
   "language": "python",
   "name": "python3"
  },
  "language_info": {
   "codemirror_mode": {
    "name": "ipython",
    "version": 3
   },
   "file_extension": ".py",
   "mimetype": "text/x-python",
   "name": "python",
   "nbconvert_exporter": "python",
   "pygments_lexer": "ipython3",
   "version": "3.7.3"
  }
 },
 "nbformat": 4,
 "nbformat_minor": 2
}
